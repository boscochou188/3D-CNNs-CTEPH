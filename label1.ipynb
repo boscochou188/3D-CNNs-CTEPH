{
 "cells": [
  {
   "cell_type": "code",
   "execution_count": 1,
   "id": "bbac97e6",
   "metadata": {},
   "outputs": [],
   "source": [
    "import os\n",
    "import shutil\n",
    "\n",
    "source = \"C:/Users/85298/AI/CTlung1/0_masked\"\n",
    "destination_normal = \"C:/Users/85298/AI/CTlung1/normal_nii_16\"\n",
    "destination_ph = \"C:/Users/85298/AI/CTlung1/ph_nii_16\"\n",
    "\n"
   ]
  },
  {
   "cell_type": "code",
   "execution_count": 3,
   "id": "7535942d",
   "metadata": {},
   "outputs": [],
   "source": [
    "#separate file to different folder\n",
    "#may need to add a function to put back the file\n",
    "import pandas as pd\n",
    "df = pd.read_csv('label_pe.csv' , sep=',')\n",
    "\n",
    "for i in range (0,len(df)):\n",
    "    \n",
    "    if df['Label'][i] == \"PE\" :\n",
    "        \n",
    "        code_ph_l = str(df['ID'][i]).zfill(3) + \"_ct_left.nii\"\n",
    "        code_ph_r = str(df['ID'][i]).zfill(3) + \"_ct_right.nii\"\n",
    "        \n",
    "        path_ph_l = \"C:/Users/85298/AI/CTlung1/0_masked/sub0\" +  code_ph_l \n",
    "        path_ph_r = \"C:/Users/85298/AI/CTlung1/0_masked/sub0\" +  code_ph_r\n",
    "        \n",
    "        shutil.move (path_ph_l ,destination_ph )\n",
    "        shutil.move (path_ph_r ,destination_ph )\n",
    "\n",
    "        \n",
    "    else :\n",
    "#    if df['Label'][i] == \"Normal\" :\n",
    "        \n",
    "        code_nr_l = str(df['ID'][i]).zfill(3) + \"_ct_left.nii\"\n",
    "        code_nr_r = str(df['ID'][i]).zfill(3) + \"_ct_right.nii\"\n",
    "        \n",
    "        path_nr_l = \"C:/Users/85298/AI/CTlung1/0_masked/sub0\" +  code_nr_l \n",
    "        path_nr_r = \"C:/Users/85298/AI/CTlung1/0_masked/sub0\" +  code_nr_r \n",
    "        \n",
    "        shutil.move (path_nr_l ,destination_normal )\n",
    "        shutil.move (path_nr_r ,destination_normal )\n",
    "        \n",
    "        \n",
    "#    else :\n",
    "#        pass\n",
    "\n"
   ]
  },
  {
   "cell_type": "code",
   "execution_count": null,
   "id": "328f4fcf",
   "metadata": {},
   "outputs": [],
   "source": []
  }
 ],
 "metadata": {
  "kernelspec": {
   "display_name": "Python 3.9 (tensorflow)",
   "language": "python",
   "name": "tensorflow"
  },
  "language_info": {
   "codemirror_mode": {
    "name": "ipython",
    "version": 3
   },
   "file_extension": ".py",
   "mimetype": "text/x-python",
   "name": "python",
   "nbconvert_exporter": "python",
   "pygments_lexer": "ipython3",
   "version": "3.9.13"
  }
 },
 "nbformat": 4,
 "nbformat_minor": 5
}
